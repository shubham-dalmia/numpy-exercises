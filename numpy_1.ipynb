{
  "nbformat": 4,
  "nbformat_minor": 0,
  "metadata": {
    "colab": {
      "name": "numpy_1.ipynb",
      "provenance": [],
      "include_colab_link": true
    },
    "kernelspec": {
      "name": "python3",
      "display_name": "Python 3"
    },
    "language_info": {
      "name": "python"
    }
  },
  "cells": [
    {
      "cell_type": "markdown",
      "metadata": {
        "id": "view-in-github",
        "colab_type": "text"
      },
      "source": [
        "<a href=\"https://colab.research.google.com/github/shubham-dalmia/numpy-exercises/blob/main/numpy_1.ipynb\" target=\"_parent\"><img src=\"https://colab.research.google.com/assets/colab-badge.svg\" alt=\"Open In Colab\"/></a>"
      ]
    },
    {
      "cell_type": "markdown",
      "metadata": {
        "id": "LXVe2bfVTamh"
      },
      "source": [
        "1) to import numpy"
      ]
    },
    {
      "cell_type": "code",
      "metadata": {
        "id": "MHlWbmp_TkH8"
      },
      "source": [
        "import numpy as np"
      ],
      "execution_count": null,
      "outputs": []
    },
    {
      "cell_type": "markdown",
      "metadata": {
        "id": "_ApxkaodTouF"
      },
      "source": [
        "2) Print the numpy version and the configuration"
      ]
    },
    {
      "cell_type": "code",
      "metadata": {
        "colab": {
          "base_uri": "https://localhost:8080/"
        },
        "id": "f1OJzLN2Tm7g",
        "outputId": "1d8cc0d9-2be3-44ec-d37a-be97f61d9a19"
      },
      "source": [
        "print(np.__version__)\n",
        "print(np.show_config)"
      ],
      "execution_count": null,
      "outputs": [
        {
          "output_type": "stream",
          "name": "stdout",
          "text": [
            "1.19.5\n",
            "<function show at 0x7f5174ceb4d0>\n"
          ]
        }
      ]
    },
    {
      "cell_type": "markdown",
      "metadata": {
        "id": "uI6NbtIiUMps"
      },
      "source": [
        "3) Create a null vector of size 10"
      ]
    },
    {
      "cell_type": "code",
      "metadata": {
        "colab": {
          "base_uri": "https://localhost:8080/"
        },
        "id": "ziOxFJNpUOz6",
        "outputId": "aecd7d00-9c61-45f8-ae5d-ea28c123cff5"
      },
      "source": [
        "np.zeros(10)\n"
      ],
      "execution_count": null,
      "outputs": [
        {
          "output_type": "execute_result",
          "data": {
            "text/plain": [
              "array([0., 0., 0., 0., 0., 0., 0., 0., 0., 0.])"
            ]
          },
          "metadata": {},
          "execution_count": 9
        }
      ]
    },
    {
      "cell_type": "markdown",
      "metadata": {
        "id": "UVLxcP9lVIGC"
      },
      "source": [
        "4) How to find the memory size of any array "
      ]
    },
    {
      "cell_type": "code",
      "metadata": {
        "colab": {
          "base_uri": "https://localhost:8080/"
        },
        "id": "NilaWXk9UZGn",
        "outputId": "d1e0e485-bd47-4641-8e51-7e40c79c7655"
      },
      "source": [
        "a=np.array([1,2,3])\n",
        "a.nbytes"
      ],
      "execution_count": null,
      "outputs": [
        {
          "output_type": "execute_result",
          "data": {
            "text/plain": [
              "24"
            ]
          },
          "metadata": {},
          "execution_count": 12
        }
      ]
    },
    {
      "cell_type": "markdown",
      "metadata": {
        "id": "hO00QAodVnXR"
      },
      "source": [
        "\n",
        "5) How to get the documentation of the numpy add function from the command line? "
      ]
    },
    {
      "cell_type": "code",
      "metadata": {
        "colab": {
          "base_uri": "https://localhost:8080/"
        },
        "id": "ZCDb9jzSVRDN",
        "outputId": "e0949065-c57b-45f2-edde-7c378b405337"
      },
      "source": [
        "print(np.info(np.add))"
      ],
      "execution_count": null,
      "outputs": [
        {
          "output_type": "stream",
          "name": "stdout",
          "text": [
            "None\n"
          ]
        }
      ]
    },
    {
      "cell_type": "markdown",
      "metadata": {
        "id": "lwkrdV2aWhTL"
      },
      "source": [
        "6) Create a null vector of size 10 but the fifth value which is 1"
      ]
    },
    {
      "cell_type": "code",
      "metadata": {
        "colab": {
          "base_uri": "https://localhost:8080/"
        },
        "id": "iPHeXVedV3ea",
        "outputId": "da86077a-896d-412e-c302-5a840bc70935"
      },
      "source": [
        "b=np.zeros(10)\n",
        "b[4,]=1;\n",
        "print(b)"
      ],
      "execution_count": null,
      "outputs": [
        {
          "output_type": "stream",
          "name": "stdout",
          "text": [
            "[0. 0. 0. 0. 1. 0. 0. 0. 0. 0.]\n"
          ]
        }
      ]
    },
    {
      "cell_type": "markdown",
      "metadata": {
        "id": "YkTtTlm1W8tf"
      },
      "source": [
        "7) Create a vector with values ranging from 10 to 49"
      ]
    },
    {
      "cell_type": "code",
      "metadata": {
        "colab": {
          "base_uri": "https://localhost:8080/"
        },
        "id": "Gqq1UIVJWvKp",
        "outputId": "d429f5b9-a3b9-4415-8d0a-eb857baaa166"
      },
      "source": [
        "c=np.arange(10,49)\n",
        "print(c)"
      ],
      "execution_count": null,
      "outputs": [
        {
          "output_type": "stream",
          "name": "stdout",
          "text": [
            "[10 11 12 13 14 15 16 17 18 19 20 21 22 23 24 25 26 27 28 29 30 31 32 33\n",
            " 34 35 36 37 38 39 40 41 42 43 44 45 46 47 48]\n"
          ]
        }
      ]
    },
    {
      "cell_type": "markdown",
      "metadata": {
        "id": "JG96_ljxYYYP"
      },
      "source": [
        "8)Reverse a vector (first element becomes last)"
      ]
    },
    {
      "cell_type": "code",
      "metadata": {
        "colab": {
          "base_uri": "https://localhost:8080/"
        },
        "id": "qdNM_VchX_n4",
        "outputId": "9ae87f11-c5f6-41a5-9609-e97a3c2639df"
      },
      "source": [
        "print(c[-1:-40:-1])"
      ],
      "execution_count": null,
      "outputs": [
        {
          "output_type": "stream",
          "name": "stdout",
          "text": [
            "[48 47 46 45 44 43 42 41 40 39 38 37 36 35 34 33 32 31 30 29 28 27 26 25\n",
            " 24 23 22 21 20 19 18 17 16 15 14 13 12 11 10]\n"
          ]
        }
      ]
    },
    {
      "cell_type": "markdown",
      "metadata": {
        "id": "XLmwE2xQaDVl"
      },
      "source": [
        "9)Create a 3x3 matrix with values ranging from 0 to 8 "
      ]
    },
    {
      "cell_type": "code",
      "metadata": {
        "colab": {
          "base_uri": "https://localhost:8080/"
        },
        "id": "P7N3BBO0ZWIx",
        "outputId": "1dcdcc2a-b367-4ba3-ff9e-deb8cb7c0e33"
      },
      "source": [
        "d=np.arange(0,9).reshape(3,3)\n",
        "print(d)"
      ],
      "execution_count": null,
      "outputs": [
        {
          "output_type": "stream",
          "name": "stdout",
          "text": [
            "[[0 1 2]\n",
            " [3 4 5]\n",
            " [6 7 8]]\n"
          ]
        }
      ]
    },
    {
      "cell_type": "markdown",
      "metadata": {
        "id": "Wtu5Nhilavag"
      },
      "source": [
        "10) Find indices of non-zero elements from [1,2,0,0,4,0]"
      ]
    },
    {
      "cell_type": "code",
      "metadata": {
        "colab": {
          "base_uri": "https://localhost:8080/"
        },
        "id": "zots-HkQacUe",
        "outputId": "01710022-6733-4ce6-8415-e58eb86084a2"
      },
      "source": [
        "e=np.array([1,2,0,0,4,0])\n",
        "for i in range(len(e)):\n",
        "     if e[i]!=0:\n",
        "        print(i)"
      ],
      "execution_count": null,
      "outputs": [
        {
          "output_type": "stream",
          "name": "stdout",
          "text": [
            "0\n",
            "1\n",
            "4\n"
          ]
        }
      ]
    },
    {
      "cell_type": "markdown",
      "metadata": {
        "id": "1j9CxgO2cc4V"
      },
      "source": [
        "11)Create a 3x3 identity matrix"
      ]
    },
    {
      "cell_type": "code",
      "metadata": {
        "colab": {
          "base_uri": "https://localhost:8080/"
        },
        "id": "Wjk_AoAZctnh",
        "outputId": "d3bd9a39-a146-41a4-c51f-5d24d1794c88"
      },
      "source": [
        "print(np.identity(3,dtype='int32'))"
      ],
      "execution_count": null,
      "outputs": [
        {
          "output_type": "stream",
          "name": "stdout",
          "text": [
            "[[1 0 0]\n",
            " [0 1 0]\n",
            " [0 0 1]]\n"
          ]
        }
      ]
    },
    {
      "cell_type": "markdown",
      "metadata": {
        "id": "eOLBDZLicclw"
      },
      "source": [
        "12)Create a 3x3x3 array with random values"
      ]
    },
    {
      "cell_type": "code",
      "metadata": {
        "colab": {
          "base_uri": "https://localhost:8080/"
        },
        "id": "Vc5OGSwjdCnj",
        "outputId": "6d76860c-8e09-45bd-cd6b-b01c9d736d92"
      },
      "source": [
        "print(np.random.rand(3,3,3))"
      ],
      "execution_count": null,
      "outputs": [
        {
          "output_type": "stream",
          "name": "stdout",
          "text": [
            "[[[0.52740697 0.64299196 0.03598369]\n",
            "  [0.66017622 0.9941713  0.26590271]\n",
            "  [0.42320377 0.24122374 0.3113004 ]]\n",
            "\n",
            " [[0.45983194 0.81875446 0.99169373]\n",
            "  [0.29061521 0.08145469 0.13578218]\n",
            "  [0.88431115 0.97176017 0.92058328]]\n",
            "\n",
            " [[0.52894537 0.87439679 0.67385587]\n",
            "  [0.13244182 0.94112283 0.86230331]\n",
            "  [0.82235704 0.22878523 0.82387555]]]\n"
          ]
        }
      ]
    },
    {
      "cell_type": "markdown",
      "metadata": {
        "id": "vC8wTrg1ccOj"
      },
      "source": [
        "13)Create a 10x10 array with random values and find the minimum and maximum values"
      ]
    },
    {
      "cell_type": "code",
      "metadata": {
        "colab": {
          "base_uri": "https://localhost:8080/"
        },
        "id": "EjdsTuukbFUd",
        "outputId": "3337aeea-14c0-4214-b557-ce1dc2357f10"
      },
      "source": [
        "f=np.random.rand(10,10)\n",
        "min=f.min()\n",
        "max=f.max()\n",
        "print(f)\n",
        "print(min)\n",
        "print(max)\n"
      ],
      "execution_count": null,
      "outputs": [
        {
          "output_type": "stream",
          "name": "stdout",
          "text": [
            "[[0.22610494 0.75537559 0.79745473 0.18884226 0.7623684  0.77776657\n",
            "  0.65283016 0.36458043 0.81441128 0.23309204]\n",
            " [0.70311219 0.66912722 0.44364541 0.72489534 0.15807912 0.20049077\n",
            "  0.97478835 0.96461937 0.35733509 0.40940943]\n",
            " [0.34857409 0.59131209 0.52360525 0.30467805 0.68056934 0.47493311\n",
            "  0.85445993 0.25074865 0.201182   0.08543881]\n",
            " [0.19291554 0.51974405 0.42857891 0.78960636 0.94135241 0.16652318\n",
            "  0.65979283 0.00461589 0.18870715 0.28248647]\n",
            " [0.10491145 0.79369858 0.51459184 0.74499814 0.96783894 0.87579829\n",
            "  0.97048693 0.69798608 0.27321257 0.77047661]\n",
            " [0.69179368 0.34999132 0.85060821 0.33412614 0.74292031 0.04839955\n",
            "  0.68570919 0.47290708 0.2181544  0.59139107]\n",
            " [0.84993531 0.93656943 0.79584188 0.63507169 0.48768032 0.29047956\n",
            "  0.2362575  0.53391087 0.03417466 0.15275754]\n",
            " [0.05197435 0.3023833  0.50904365 0.02329525 0.88110024 0.47518685\n",
            "  0.93251587 0.93218714 0.90121597 0.83926691]\n",
            " [0.24476332 0.61381229 0.36469029 0.58088958 0.0437299  0.4047155\n",
            "  0.07914418 0.75312434 0.28339562 0.23219593]\n",
            " [0.85807017 0.77592254 0.38751613 0.51901681 0.16706758 0.99125991\n",
            "  0.11066884 0.69947123 0.33518119 0.93273684]]\n",
            "0.0046158855162330426\n",
            "0.9912599118960369\n"
          ]
        }
      ]
    },
    {
      "cell_type": "markdown",
      "metadata": {
        "id": "sFkPey2merzA"
      },
      "source": [
        "14) Create a random vector of size 30 and find the mean value "
      ]
    },
    {
      "cell_type": "code",
      "metadata": {
        "colab": {
          "base_uri": "https://localhost:8080/"
        },
        "id": "sRdeCOBVgHd2",
        "outputId": "5cfd3787-f040-4840-e0a3-61a06be5e368"
      },
      "source": [
        "a=np.random.rand(8)\n",
        "print(a)\n",
        "print(a.mean())"
      ],
      "execution_count": null,
      "outputs": [
        {
          "output_type": "stream",
          "name": "stdout",
          "text": [
            "[0.18821805 0.38625419 0.57326453 0.64014281 0.50094707 0.14541597\n",
            " 0.15590523 0.66890481]\n",
            "0.4073815819945463\n"
          ]
        }
      ]
    },
    {
      "cell_type": "markdown",
      "metadata": {
        "id": "MlzRpHWLetpP"
      },
      "source": [
        "15)Create a 2d array with 1 on the border and 0 inside "
      ]
    },
    {
      "cell_type": "code",
      "metadata": {
        "colab": {
          "base_uri": "https://localhost:8080/"
        },
        "id": "EbodJ5BLhQBR",
        "outputId": "8942dc7c-c840-4ec4-b88b-f6964bce3a7a"
      },
      "source": [
        "a=np.ones((5,5))\n",
        "b=np.zeros((3,3))\n",
        "a[1:-1,1:-1]=b\n",
        "print(a)"
      ],
      "execution_count": null,
      "outputs": [
        {
          "output_type": "stream",
          "name": "stdout",
          "text": [
            "[[1. 1. 1. 1. 1.]\n",
            " [1. 0. 0. 0. 1.]\n",
            " [1. 0. 0. 0. 1.]\n",
            " [1. 0. 0. 0. 1.]\n",
            " [1. 1. 1. 1. 1.]]\n"
          ]
        }
      ]
    },
    {
      "cell_type": "markdown",
      "metadata": {
        "id": "qFYqgtkWeuOC"
      },
      "source": [
        "16)How to add a border (filled with 0's) around an existing array?"
      ]
    },
    {
      "cell_type": "code",
      "metadata": {
        "colab": {
          "base_uri": "https://localhost:8080/"
        },
        "id": "E4vuvnUmdhx6",
        "outputId": "75bea4b6-4cd2-4129-b282-9ee9d1466acb"
      },
      "source": [
        "a=np.full((2,2),2)\n",
        "print(a)\n",
        "b=np.zeros((4,4))\n",
        "b[1:-1,1:-1]=a\n",
        "print(b)"
      ],
      "execution_count": null,
      "outputs": [
        {
          "output_type": "stream",
          "name": "stdout",
          "text": [
            "[[2 2]\n",
            " [2 2]]\n",
            "[[0. 0. 0. 0.]\n",
            " [0. 2. 2. 0.]\n",
            " [0. 2. 2. 0.]\n",
            " [0. 0. 0. 0.]]\n"
          ]
        }
      ]
    },
    {
      "cell_type": "markdown",
      "metadata": {
        "id": "ex75h2KOj6Ni"
      },
      "source": [
        "17) What is the result of the following expression? (★☆☆)\n",
        "0 * np.nan\n",
        "np.nan == np.nan\n",
        "np.inf > np.nan\n",
        "np.nan - np.nan\n",
        "np.nan in set([np.nan])\n",
        "0.3 == 3 * 0.1"
      ]
    },
    {
      "cell_type": "code",
      "metadata": {
        "colab": {
          "base_uri": "https://localhost:8080/"
        },
        "id": "z9_OSS28jgrg",
        "outputId": "a69bdf0d-ec16-48b1-a59c-3ae702664af6"
      },
      "source": [
        "0 * np.nan\n",
        "np.nan == np.nan\n",
        "np.inf > np.nan\n",
        "np.nan - np.nan\n",
        "np.nan in set([np.nan])\n",
        "0.3 == 3 * 0.1"
      ],
      "execution_count": null,
      "outputs": [
        {
          "output_type": "execute_result",
          "data": {
            "text/plain": [
              "False"
            ]
          },
          "metadata": {},
          "execution_count": 63
        }
      ]
    },
    {
      "cell_type": "markdown",
      "metadata": {
        "id": "-Oy6TsqfkXoD"
      },
      "source": [
        "18) Create a 5x5 matrix with values 1,2,3,4 just below the diagonal"
      ]
    },
    {
      "cell_type": "code",
      "metadata": {
        "colab": {
          "base_uri": "https://localhost:8080/"
        },
        "id": "XCKZYA0fmRHN",
        "outputId": "d943f9ed-4127-404f-8cd0-c3c2e47b50c1"
      },
      "source": [
        "a=np.zeros((5,5))\n",
        "for i in range(4):\n",
        "  a[i+1,i]=i+1\n",
        "print(a)"
      ],
      "execution_count": null,
      "outputs": [
        {
          "output_type": "stream",
          "name": "stdout",
          "text": [
            "[[0. 0. 0. 0. 0.]\n",
            " [1. 0. 0. 0. 0.]\n",
            " [0. 2. 0. 0. 0.]\n",
            " [0. 0. 3. 0. 0.]\n",
            " [0. 0. 0. 4. 0.]]\n"
          ]
        }
      ]
    },
    {
      "cell_type": "markdown",
      "metadata": {
        "id": "zYF7wGJAkXRI"
      },
      "source": [
        "19)Create a 8x8 matrix and fill it with a checkerboard pattern"
      ]
    },
    {
      "cell_type": "code",
      "metadata": {
        "colab": {
          "base_uri": "https://localhost:8080/"
        },
        "id": "ecipsDkroiMa",
        "outputId": "01bd101f-4bc7-46a5-b4e7-3dfdb5e828a5"
      },
      "source": [
        "a=np.zeros((8,8), dtype='int32')\n",
        "a[0:8:2,0:8:2]=1\n",
        "a[1:9:2,1:9:2]=1\n",
        "print(a)"
      ],
      "execution_count": null,
      "outputs": [
        {
          "output_type": "stream",
          "name": "stdout",
          "text": [
            "[[1 0 1 0 1 0 1 0]\n",
            " [0 1 0 1 0 1 0 1]\n",
            " [1 0 1 0 1 0 1 0]\n",
            " [0 1 0 1 0 1 0 1]\n",
            " [1 0 1 0 1 0 1 0]\n",
            " [0 1 0 1 0 1 0 1]\n",
            " [1 0 1 0 1 0 1 0]\n",
            " [0 1 0 1 0 1 0 1]]\n"
          ]
        }
      ]
    },
    {
      "cell_type": "markdown",
      "metadata": {
        "id": "mz_I5472kW9t"
      },
      "source": [
        "20)Consider a (6,7,8) shape array, what is the index (x,y,z) of the 100th element?"
      ]
    },
    {
      "cell_type": "code",
      "metadata": {
        "id": "yfB6Ct9HrLhz",
        "colab": {
          "base_uri": "https://localhost:8080/"
        },
        "outputId": "55d9e00a-b2be-4076-ae74-1eb8e648a94e"
      },
      "source": [
        "print(np.unravel_index(100,(6,7,8)))"
      ],
      "execution_count": null,
      "outputs": [
        {
          "output_type": "stream",
          "name": "stdout",
          "text": [
            "(1, 5, 4)\n"
          ]
        }
      ]
    },
    {
      "cell_type": "markdown",
      "metadata": {
        "id": "sscWcD7ukzh4"
      },
      "source": [
        "21) Create a checkerboard 8x8 matrix using the tile function "
      ]
    },
    {
      "cell_type": "code",
      "metadata": {
        "colab": {
          "base_uri": "https://localhost:8080/"
        },
        "id": "MdXb9BJiQF8L",
        "outputId": "f82c7001-067d-43aa-b898-cda979bc6483"
      },
      "source": [
        "arr=np.array([[0, 1], [1, 0]])\n",
        "print(np.tile(arr,(4,4)))"
      ],
      "execution_count": null,
      "outputs": [
        {
          "output_type": "stream",
          "name": "stdout",
          "text": [
            "[[0 1 0 1 0 1 0 1]\n",
            " [1 0 1 0 1 0 1 0]\n",
            " [0 1 0 1 0 1 0 1]\n",
            " [1 0 1 0 1 0 1 0]\n",
            " [0 1 0 1 0 1 0 1]\n",
            " [1 0 1 0 1 0 1 0]\n",
            " [0 1 0 1 0 1 0 1]\n",
            " [1 0 1 0 1 0 1 0]]\n"
          ]
        }
      ]
    },
    {
      "cell_type": "markdown",
      "metadata": {
        "id": "_MZx1rS2kzbA"
      },
      "source": [
        "22) Normalize a 5x5 random matrix"
      ]
    },
    {
      "cell_type": "code",
      "metadata": {
        "id": "h3aF1VzArNxj",
        "colab": {
          "base_uri": "https://localhost:8080/"
        },
        "outputId": "b6316188-aeaa-4013-8417-3663c60f6ff3"
      },
      "source": [
        "a=np.random.rand(5,5)\n",
        "a=(a-np.mean(a))/(np.std(a))\n",
        "print(a)"
      ],
      "execution_count": null,
      "outputs": [
        {
          "output_type": "stream",
          "name": "stdout",
          "text": [
            "[[ 0.89792092  0.96639838 -1.22418248  1.42010344  0.74317409]\n",
            " [-0.32228424  1.52135189  1.52448575 -0.91266949 -0.67731946]\n",
            " [-0.80929646 -0.75525392 -0.40066925  0.61395219 -1.45406951]\n",
            " [ 0.85234442  0.50922339  1.15788156  0.71068063 -0.77741681]\n",
            " [-0.79951972  0.69114052 -0.47646786 -1.46454818 -1.53495981]]\n"
          ]
        }
      ]
    },
    {
      "cell_type": "markdown",
      "metadata": {
        "id": "0_grMUPekzTX"
      },
      "source": [
        "23)Create a custom dtype that describes a color as four unsigned bytes (RGBA)"
      ]
    },
    {
      "cell_type": "code",
      "metadata": {
        "id": "jk6pDgx-H115"
      },
      "source": [
        "color = np.dtype([(\"r\", np.ubyte, (1,)),\n",
        "                  (\"g\", np.ubyte, (1,)),\n",
        "                  (\"b\", np.ubyte, (1,)),\n",
        "                  (\"a\", np.ubyte, (1,))])\n"
      ],
      "execution_count": null,
      "outputs": []
    },
    {
      "cell_type": "markdown",
      "metadata": {
        "id": "8-dNgg2ckzJ3"
      },
      "source": [
        "24)Multiply a 5x3 matrix by a 3x2 matrix (real matrix product)"
      ]
    },
    {
      "cell_type": "code",
      "metadata": {
        "colab": {
          "base_uri": "https://localhost:8080/"
        },
        "id": "ucuhHPmHrRSH",
        "outputId": "5df91745-bce9-4055-f1ee-a641346a8b6e"
      },
      "source": [
        "a=np.full((5,3),2)\n",
        "b=np.full((3,2),7)\n",
        "print(np.matmul(a,b))"
      ],
      "execution_count": null,
      "outputs": [
        {
          "output_type": "stream",
          "name": "stdout",
          "text": [
            "[[42 42]\n",
            " [42 42]\n",
            " [42 42]\n",
            " [42 42]\n",
            " [42 42]]\n"
          ]
        }
      ]
    },
    {
      "cell_type": "markdown",
      "metadata": {
        "id": "AbEjBApyky8O"
      },
      "source": [
        "25) Given a 1D array, negate all elements which are between 3 and 8, in place. "
      ]
    },
    {
      "cell_type": "code",
      "metadata": {
        "colab": {
          "base_uri": "https://localhost:8080/"
        },
        "id": "iP739aavn8E7",
        "outputId": "20d6b7d7-98b6-436b-df46-03b3430b57c6"
      },
      "source": [
        "a = np.arange(10)\n",
        "a[(a >= 3) & (a<= 8)] = 0\n",
        "print(a)"
      ],
      "execution_count": null,
      "outputs": [
        {
          "output_type": "stream",
          "name": "stdout",
          "text": [
            "[0 1 2 0 0 0 0 0 0 9]\n"
          ]
        }
      ]
    },
    {
      "cell_type": "markdown",
      "metadata": {
        "id": "7lGeszVnlLLp"
      },
      "source": [
        "26. What is the output of the following script? \n",
        " Author: Jake VanderPlas\n",
        "\n",
        "print(sum(range(5),-1))\n",
        "from numpy import *\n",
        "print(sum(range(5),-1))"
      ]
    },
    {
      "cell_type": "code",
      "metadata": {
        "colab": {
          "base_uri": "https://localhost:8080/"
        },
        "id": "n7d0DiwKrsjZ",
        "outputId": "5a83634d-5069-4dde-a03d-45f75c1b6dc0"
      },
      "source": [
        "print(sum(range(5),-1))\n",
        "from numpy import *\n",
        "print(sum(range(5),-1))\n"
      ],
      "execution_count": null,
      "outputs": [
        {
          "output_type": "stream",
          "name": "stdout",
          "text": [
            "9\n",
            "10\n"
          ]
        }
      ]
    },
    {
      "cell_type": "markdown",
      "metadata": {
        "id": "5WQt7AM3lLIG"
      },
      "source": [
        "27) Consider an integer vector Z, which of these expressions are legal? \n",
        "Z**Z\n",
        "2 << Z >> 2\n",
        "Z <- Z\n",
        "1j*Z\n",
        "Z/1/1\n",
        "Z<Z>Z"
      ]
    },
    {
      "cell_type": "code",
      "metadata": {
        "colab": {
          "base_uri": "https://localhost:8080/"
        },
        "id": "QWfgsHVvr4Cv",
        "outputId": "09cdef22-c4bf-42c8-c954-375dfe660a03"
      },
      "source": [
        "Z=1\n",
        "print(Z**Z)\n",
        "print(2 << Z >> 2)\n",
        "print(Z <- Z)\n",
        "print(1j*Z)\n",
        "print(Z/1/1)\n",
        "print(Z<Z>Z)"
      ],
      "execution_count": null,
      "outputs": [
        {
          "output_type": "stream",
          "name": "stdout",
          "text": [
            "1\n",
            "1\n",
            "False\n",
            "1j\n",
            "1.0\n",
            "False\n"
          ]
        }
      ]
    },
    {
      "cell_type": "markdown",
      "metadata": {
        "id": "9cUbz0V8lK_v"
      },
      "source": [
        "28) What are the result of the following expressions?\n",
        "np.array(0) / np.array(0)\n",
        "np.array(0) // np.array(0)\n",
        "np.array([np.nan]).astype(int).astype(float)"
      ]
    },
    {
      "cell_type": "code",
      "metadata": {
        "id": "ePqAw6J_smc0",
        "colab": {
          "base_uri": "https://localhost:8080/"
        },
        "outputId": "1ff28e54-12ce-4363-bd62-253814a459a6"
      },
      "source": [
        "import numpy as np\n",
        "np.array(0) / np.array(0)\n",
        "np.array(0) // np.array(0)\n",
        "np.array([np.nan]).astype(int).astype(float)"
      ],
      "execution_count": null,
      "outputs": [
        {
          "output_type": "stream",
          "name": "stderr",
          "text": [
            "/usr/local/lib/python3.7/dist-packages/ipykernel_launcher.py:2: RuntimeWarning: invalid value encountered in true_divide\n",
            "  \n",
            "/usr/local/lib/python3.7/dist-packages/ipykernel_launcher.py:3: RuntimeWarning: divide by zero encountered in floor_divide\n",
            "  This is separate from the ipykernel package so we can avoid doing imports until\n"
          ]
        },
        {
          "output_type": "execute_result",
          "data": {
            "text/plain": [
              "array([-9.22337204e+18])"
            ]
          },
          "metadata": {},
          "execution_count": 2
        }
      ]
    },
    {
      "cell_type": "markdown",
      "metadata": {
        "id": "equG_xVglK5t"
      },
      "source": [
        "\n",
        "29)How to round away from zero a float array ? "
      ]
    },
    {
      "cell_type": "code",
      "metadata": {
        "id": "IT5LKs5ssl2X",
        "colab": {
          "base_uri": "https://localhost:8080/"
        },
        "outputId": "de9cf2fd-6345-46b9-c834-b3848d3481b2"
      },
      "source": [
        "a=np.array([1.2,9.9,8.8,0.119])\n",
        "print(np.round(a,0))"
      ],
      "execution_count": null,
      "outputs": [
        {
          "output_type": "stream",
          "name": "stdout",
          "text": [
            "[ 1. 10.  9.  0.]\n"
          ]
        }
      ]
    },
    {
      "cell_type": "markdown",
      "metadata": {
        "id": "jsIaL4jAlKs9"
      },
      "source": [
        "30) How to find common values between two arrays? "
      ]
    },
    {
      "cell_type": "code",
      "metadata": {
        "id": "t4sXVpF3slMC",
        "colab": {
          "base_uri": "https://localhost:8080/"
        },
        "outputId": "8c19ca52-4b3f-460f-e37f-7cc1fcc9e0f4"
      },
      "source": [
        "a=np.array([1,2,3,4])\n",
        "b=np.array([3,4,5,6])\n",
        "print(np.intersect1d(a,b))"
      ],
      "execution_count": null,
      "outputs": [
        {
          "output_type": "stream",
          "name": "stdout",
          "text": [
            "[3 4]\n"
          ]
        }
      ]
    },
    {
      "cell_type": "markdown",
      "metadata": {
        "id": "OmQ9nKJ8lKVP"
      },
      "source": [
        "31)How to ignore all numpy warnings (not recommended)? "
      ]
    },
    {
      "cell_type": "code",
      "metadata": {
        "id": "8DWDH0Susi79"
      },
      "source": [
        "defaults = np.seterr(all=\"ignore\")\n",
        "Z = np.ones(1) / 0\n",
        "\n",
        "# Back to sanity\n",
        "_ = np.seterr(**defaults)"
      ],
      "execution_count": null,
      "outputs": []
    },
    {
      "cell_type": "markdown",
      "metadata": {
        "id": "-QNs0kQwl7oU"
      },
      "source": [
        "32)Is the following expressions true? \n",
        "np.sqrt(-1) == np.emath.sqrt(-1)"
      ]
    },
    {
      "cell_type": "code",
      "metadata": {
        "id": "H3iHEzu3sh4_",
        "colab": {
          "base_uri": "https://localhost:8080/"
        },
        "outputId": "f02a9f69-d7b2-4199-ece7-3526881cd879"
      },
      "source": [
        "np.sqrt(-1) == np.emath.sqrt(-1)"
      ],
      "execution_count": null,
      "outputs": [
        {
          "output_type": "stream",
          "name": "stderr",
          "text": [
            "/usr/local/lib/python3.7/dist-packages/ipykernel_launcher.py:1: RuntimeWarning: invalid value encountered in sqrt\n",
            "  \"\"\"Entry point for launching an IPython kernel.\n"
          ]
        },
        {
          "output_type": "execute_result",
          "data": {
            "text/plain": [
              "False"
            ]
          },
          "metadata": {},
          "execution_count": 3
        }
      ]
    },
    {
      "cell_type": "markdown",
      "metadata": {
        "id": "FkkATD7AmFRI"
      },
      "source": [
        "33)How to get the dates of yesterday, today and tomorrow?"
      ]
    },
    {
      "cell_type": "code",
      "metadata": {
        "id": "5wFY2vVrj-Xf",
        "colab": {
          "base_uri": "https://localhost:8080/"
        },
        "outputId": "1a90cb05-a4fe-433b-d3fc-8b7e41dfd651"
      },
      "source": [
        "import datetime \n",
        "print( \"today\",np.datetime64('today','D'))\n",
        "print(\"yesterday\",np.datetime64('today','D')-np.timedelta64(1,'D'))\n",
        "print(\"tommorow\",np.datetime64('today','D')+np.timedelta64(1,'D'))\n"
      ],
      "execution_count": null,
      "outputs": [
        {
          "output_type": "stream",
          "name": "stdout",
          "text": [
            "today 2021-09-02\n",
            "yesterday 2021-09-01\n",
            "tommorow 2021-09-03\n"
          ]
        }
      ]
    }
  ]
}